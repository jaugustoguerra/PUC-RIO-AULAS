{
 "cells": [
  {
   "cell_type": "code",
   "execution_count": null,
   "metadata": {
    "vscode": {
     "languageId": "plaintext"
    }
   },
   "outputs": [],
   "source": [
    "# Desafio 1 \n",
    "resultado = 79 * 10 * 4\n",
    "print(f'Desafio 1')\n",
    "print (f'Volume, em metros cúbicos, do reservatório é de {resultado} m³')\n",
    "\n",
    "# Desafio 2\n",
    "total = resultado * 1000\n",
    "print(f'Desafio 2')\n",
    "print (f'Volume, em litros, do reservatório é de {total} L')\n",
    "\n",
    "# Desafio 3\n",
    "print(f'Desafio 3')\n",
    "print (f'Tempo, em minutos, para encher o reservatório do Desafio 1 é {resultado / (75 / 60)} minutos')\n",
    "print (f'Tempo, em minutos, para encher o reservatório do Desafio 2 é {total / (75 / 60)} minutos')"
   ]
  }
 ],
 "metadata": {
  "language_info": {
   "name": "python"
  }
 },
 "nbformat": 4,
 "nbformat_minor": 2
}
