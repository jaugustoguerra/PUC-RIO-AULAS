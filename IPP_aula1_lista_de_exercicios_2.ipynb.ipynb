{
 "cells": [
  {
   "cell_type": "code",
   "execution_count": null,
   "metadata": {},
   "outputs": [
    {
     "name": "stdout",
     "output_type": "stream",
     "text": [
      "x1 = -2.0 e x2 = -3.0\n"
     ]
    }
   ],
   "source": [
    "#Desafio 2\n",
    " a= 1 \n",
    " b= 5  \n",
    " c= 6\n",
    "\n",
    " raizDelta = (b ** 2 - 4 * a * c) ** 0.5\n",
    "x1 = (-b + raizDelta) / (2 * a)\n",
    "x2 = (-b - raizDelta) / (2 * a)\n",
    "print(f'x1 = {x1} e x2 = {x2}')\n"
   ]
  }
 ],
 "metadata": {
  "kernelspec": {
   "display_name": "Python 3",
   "language": "python",
   "name": "python3"
  },
  "language_info": {
   "codemirror_mode": {
    "name": "ipython",
    "version": 3
   },
   "file_extension": ".py",
   "mimetype": "text/x-python",
   "name": "python",
   "nbconvert_exporter": "python",
   "pygments_lexer": "ipython3",
   "version": "3.11.9"
  }
 },
 "nbformat": 4,
 "nbformat_minor": 2
}
