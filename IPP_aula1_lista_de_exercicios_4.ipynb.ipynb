{
 "cells": [
  {
   "cell_type": "code",
   "execution_count": 26,
   "metadata": {},
   "outputs": [
    {
     "name": "stdout",
     "output_type": "stream",
     "text": [
      "675\n",
      "['e', 'c', 'n', 'q', 'w']\n",
      "['abc', 'python']\n"
     ]
    }
   ],
   "source": [
    "import random as r\n",
    "r1 = r.randint(1, 1000)\n",
    "print (r1)\n",
    "\n",
    "r2 = r.sample('abcdefghijklmnopqrstuvxwyz', 5)\n",
    "print (r2)\n",
    "\n",
    "r3 = r.sample([10.5, True, -9, 'python', 25, 'abc', 2587], 2)   \n",
    "print (r3) "
   ]
  },
  {
   "cell_type": "code",
   "execution_count": 32,
   "metadata": {},
   "outputs": [
    {
     "data": {
      "text/plain": [
       "'abcdefghijklmnopqrstuvwxyz'"
      ]
     },
     "execution_count": 32,
     "metadata": {},
     "output_type": "execute_result"
    }
   ],
   "source": [
    "import string\n",
    "dir(string)\n",
    "\n",
    "sL = string.ascii_lowercase\n",
    "sL\n"
   ]
  }
 ],
 "metadata": {
  "kernelspec": {
   "display_name": "Python 3",
   "language": "python",
   "name": "python3"
  },
  "language_info": {
   "codemirror_mode": {
    "name": "ipython",
    "version": 3
   },
   "file_extension": ".py",
   "mimetype": "text/x-python",
   "name": "python",
   "nbconvert_exporter": "python",
   "pygments_lexer": "ipython3",
   "version": "3.11.9"
  }
 },
 "nbformat": 4,
 "nbformat_minor": 2
}
