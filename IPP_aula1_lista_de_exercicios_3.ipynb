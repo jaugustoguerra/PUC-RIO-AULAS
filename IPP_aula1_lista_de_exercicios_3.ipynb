{
 "cells": [
  {
   "cell_type": "code",
   "execution_count": 47,
   "metadata": {},
   "outputs": [
    {
     "name": "stdout",
     "output_type": "stream",
     "text": [
      "Desafio 1\n",
      "Meu, Jose Augusto Guerra da Silva tem 28 letras.\n",
      "Desafio 2\n",
      "Senha gerada: 511111599\n",
      "Desafio 3\n",
      "Senha forte gerada: 9#u000$ll\n",
      "Desafio 4\n",
      "Palavra gerada: PYTHON\n"
     ]
    }
   ],
   "source": [
    "#Desafio 1\n",
    "\n",
    "nome = 'Jose Augusto Guerra da Silva'\n",
    "L = len(nome)\n",
    "len(nome)\n",
    "print(f'Desafio 1')\n",
    "print(f'Meu, {nome} tem {L} letras.')\n",
    "\n",
    "#Desafio 2\n",
    "data = '31/05/1995'\n",
    "senha = data[9] + data[1] * 5 + data[4] + data[7] * 2\n",
    "print(f'Desafio 2')\n",
    "print(f'Senha gerada: {senha}')\n",
    "\n",
    "#Desafio 3\n",
    "senhaf = data[8] + '#' + nome[int(L/2)] + data[3] * 3 + '$' + nome[L-3] * 2\n",
    "print(f'Desafio 3')\n",
    "print(f'Senha forte gerada: {senhaf}')\n",
    "\n",
    "#Desafio 4\n",
    "letras = 'ABCDEFGHIJKLMNOPQRSTUVWXYZ'\n",
    "l = [15, 24, 19, 7, 14, 13]\n",
    "palavra = letras[l[0]] + letras[l[1]] + letras[l[2]] + letras[l[3]] + letras[l[4]] + letras[l[5]]\n",
    "print(f'Desafio 4')\n",
    "print(f'Palavra gerada: {palavra}')\n",
    "\n",
    "\n",
    "\n",
    "\n",
    "\n",
    "\n",
    "\n",
    "\n"
   ]
  }
 ],
 "metadata": {
  "kernelspec": {
   "display_name": "Python 3",
   "language": "python",
   "name": "python3"
  },
  "language_info": {
   "codemirror_mode": {
    "name": "ipython",
    "version": 3
   },
   "file_extension": ".py",
   "mimetype": "text/x-python",
   "name": "python",
   "nbconvert_exporter": "python",
   "pygments_lexer": "ipython3",
   "version": "3.11.9"
  }
 },
 "nbformat": 4,
 "nbformat_minor": 2
}
