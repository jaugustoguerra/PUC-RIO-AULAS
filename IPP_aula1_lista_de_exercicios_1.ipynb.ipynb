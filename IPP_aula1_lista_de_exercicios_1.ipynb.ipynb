{
 "cells": [
  {
   "cell_type": "code",
   "execution_count": 1,
   "metadata": {},
   "outputs": [
    {
     "name": "stdout",
     "output_type": "stream",
     "text": [
      "Desafio 1\n",
      "Volume, em metros cúbicos, do reservatório é de 3160 m³\n",
      "Desafio 2\n",
      "Volume, em litros, do reservatório é de 3160000 L\n",
      "Desafio 3\n",
      "Tempo, em minutos, para encher o reservatório do Desafio 1 é 2528.0 minutos\n",
      "Tempo, em minutos, para encher o reservatório do Desafio 2 é 2528000.0 minutos\n"
     ]
    }
   ],
   "source": [
    "# Desafio 1 \n",
    "resultado = 79 * 10 * 4\n",
    "print(f'Desafio 1')\n",
    "print (f'Volume, em metros cúbicos, do reservatório é de {resultado} m³')\n",
    "\n",
    "# Desafio 2\n",
    "total = resultado * 1000\n",
    "print(f'Desafio 2')\n",
    "print (f'Volume, em litros, do reservatório é de {total} L')\n",
    "\n",
    "# Desafio 3\n",
    "print(f'Desafio 3')\n",
    "print (f'Tempo, em minutos, para encher o reservatório do Desafio 1 é {resultado / (75 / 60)} minutos')\n",
    "print (f'Tempo, em minutos, para encher o reservatório do Desafio 2 é {total / (75 / 60)} minutos')"
   ]
  }
 ],
 "metadata": {
  "kernelspec": {
   "display_name": "Python 3",
   "language": "python",
   "name": "python3"
  },
  "language_info": {
   "codemirror_mode": {
    "name": "ipython",
    "version": 3
   },
   "file_extension": ".py",
   "mimetype": "text/x-python",
   "name": "python",
   "nbconvert_exporter": "python",
   "pygments_lexer": "ipython3",
   "version": "3.11.9"
  }
 },
 "nbformat": 4,
 "nbformat_minor": 2
}
